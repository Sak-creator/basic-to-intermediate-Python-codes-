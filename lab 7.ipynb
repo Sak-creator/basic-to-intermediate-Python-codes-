{
 "cells": [
  {
   "cell_type": "code",
   "execution_count": 1,
   "metadata": {},
   "outputs": [],
   "source": [
    "import numpy as np\n",
    "import pandas as pd"
   ]
  },
  {
   "cell_type": "code",
   "execution_count": 3,
   "metadata": {},
   "outputs": [
    {
     "name": "stdout",
     "output_type": "stream",
     "text": [
      "<class 'pandas.core.frame.DataFrame'>\n",
      "RangeIndex: 1599 entries, 0 to 1598\n",
      "Data columns (total 12 columns):\n",
      " #   Column                Non-Null Count  Dtype  \n",
      "---  ------                --------------  -----  \n",
      " 0   fixed acidity         1599 non-null   float64\n",
      " 1   volatile acidity      1599 non-null   float64\n",
      " 2   citric acid           1599 non-null   float64\n",
      " 3   residual sugar        1599 non-null   float64\n",
      " 4   chlorides             1599 non-null   float64\n",
      " 5   free sulfur dioxide   1599 non-null   float64\n",
      " 6   total sulfur dioxide  1599 non-null   float64\n",
      " 7   density               1599 non-null   float64\n",
      " 8   pH                    1599 non-null   float64\n",
      " 9   sulphates             1599 non-null   float64\n",
      " 10  alcohol               1599 non-null   float64\n",
      " 11  quality               1599 non-null   int64  \n",
      "dtypes: float64(11), int64(1)\n",
      "memory usage: 150.0 KB\n"
     ]
    },
    {
     "data": {
      "text/html": [
       "<div>\n",
       "<style scoped>\n",
       "    .dataframe tbody tr th:only-of-type {\n",
       "        vertical-align: middle;\n",
       "    }\n",
       "\n",
       "    .dataframe tbody tr th {\n",
       "        vertical-align: top;\n",
       "    }\n",
       "\n",
       "    .dataframe thead th {\n",
       "        text-align: right;\n",
       "    }\n",
       "</style>\n",
       "<table border=\"1\" class=\"dataframe\">\n",
       "  <thead>\n",
       "    <tr style=\"text-align: right;\">\n",
       "      <th></th>\n",
       "      <th>fixed acidity</th>\n",
       "      <th>volatile acidity</th>\n",
       "      <th>citric acid</th>\n",
       "      <th>residual sugar</th>\n",
       "      <th>chlorides</th>\n",
       "      <th>free sulfur dioxide</th>\n",
       "      <th>total sulfur dioxide</th>\n",
       "      <th>density</th>\n",
       "      <th>pH</th>\n",
       "      <th>sulphates</th>\n",
       "      <th>alcohol</th>\n",
       "      <th>quality</th>\n",
       "    </tr>\n",
       "  </thead>\n",
       "  <tbody>\n",
       "    <tr>\n",
       "      <th>0</th>\n",
       "      <td>7.4</td>\n",
       "      <td>0.70</td>\n",
       "      <td>0.00</td>\n",
       "      <td>1.9</td>\n",
       "      <td>0.076</td>\n",
       "      <td>11.0</td>\n",
       "      <td>34.0</td>\n",
       "      <td>0.9978</td>\n",
       "      <td>3.51</td>\n",
       "      <td>0.56</td>\n",
       "      <td>9.4</td>\n",
       "      <td>5</td>\n",
       "    </tr>\n",
       "    <tr>\n",
       "      <th>1</th>\n",
       "      <td>7.8</td>\n",
       "      <td>0.88</td>\n",
       "      <td>0.00</td>\n",
       "      <td>2.6</td>\n",
       "      <td>0.098</td>\n",
       "      <td>25.0</td>\n",
       "      <td>67.0</td>\n",
       "      <td>0.9968</td>\n",
       "      <td>3.20</td>\n",
       "      <td>0.68</td>\n",
       "      <td>9.8</td>\n",
       "      <td>5</td>\n",
       "    </tr>\n",
       "    <tr>\n",
       "      <th>2</th>\n",
       "      <td>7.8</td>\n",
       "      <td>0.76</td>\n",
       "      <td>0.04</td>\n",
       "      <td>2.3</td>\n",
       "      <td>0.092</td>\n",
       "      <td>15.0</td>\n",
       "      <td>54.0</td>\n",
       "      <td>0.9970</td>\n",
       "      <td>3.26</td>\n",
       "      <td>0.65</td>\n",
       "      <td>9.8</td>\n",
       "      <td>5</td>\n",
       "    </tr>\n",
       "    <tr>\n",
       "      <th>3</th>\n",
       "      <td>11.2</td>\n",
       "      <td>0.28</td>\n",
       "      <td>0.56</td>\n",
       "      <td>1.9</td>\n",
       "      <td>0.075</td>\n",
       "      <td>17.0</td>\n",
       "      <td>60.0</td>\n",
       "      <td>0.9980</td>\n",
       "      <td>3.16</td>\n",
       "      <td>0.58</td>\n",
       "      <td>9.8</td>\n",
       "      <td>6</td>\n",
       "    </tr>\n",
       "    <tr>\n",
       "      <th>4</th>\n",
       "      <td>7.4</td>\n",
       "      <td>0.70</td>\n",
       "      <td>0.00</td>\n",
       "      <td>1.9</td>\n",
       "      <td>0.076</td>\n",
       "      <td>11.0</td>\n",
       "      <td>34.0</td>\n",
       "      <td>0.9978</td>\n",
       "      <td>3.51</td>\n",
       "      <td>0.56</td>\n",
       "      <td>9.4</td>\n",
       "      <td>5</td>\n",
       "    </tr>\n",
       "  </tbody>\n",
       "</table>\n",
       "</div>"
      ],
      "text/plain": [
       "   fixed acidity  volatile acidity  citric acid  residual sugar  chlorides  \\\n",
       "0            7.4              0.70         0.00             1.9      0.076   \n",
       "1            7.8              0.88         0.00             2.6      0.098   \n",
       "2            7.8              0.76         0.04             2.3      0.092   \n",
       "3           11.2              0.28         0.56             1.9      0.075   \n",
       "4            7.4              0.70         0.00             1.9      0.076   \n",
       "\n",
       "   free sulfur dioxide  total sulfur dioxide  density    pH  sulphates  \\\n",
       "0                 11.0                  34.0   0.9978  3.51       0.56   \n",
       "1                 25.0                  67.0   0.9968  3.20       0.68   \n",
       "2                 15.0                  54.0   0.9970  3.26       0.65   \n",
       "3                 17.0                  60.0   0.9980  3.16       0.58   \n",
       "4                 11.0                  34.0   0.9978  3.51       0.56   \n",
       "\n",
       "   alcohol  quality  \n",
       "0      9.4        5  \n",
       "1      9.8        5  \n",
       "2      9.8        5  \n",
       "3      9.8        6  \n",
       "4      9.4        5  "
      ]
     },
     "execution_count": 3,
     "metadata": {},
     "output_type": "execute_result"
    }
   ],
   "source": [
    "df = pd.read_csv('C:/Users/KIIT/Downloads/winequality-red.csv.csv')\n",
    "df.info()\n",
    "df.head()"
   ]
  },
  {
   "cell_type": "code",
   "execution_count": 4,
   "metadata": {},
   "outputs": [],
   "source": [
    " import tensorflow\n",
    "# 75% of the data is selected\n",
    "train_df = df.sample(frac=0.75, random_state=4)\n",
    " \n",
    "# it drops the training data\n",
    "# from the original dataframe\n",
    "val_df = df.drop(train_df.index)"
   ]
  },
  {
   "cell_type": "code",
   "execution_count": 5,
   "metadata": {},
   "outputs": [],
   "source": [
    "# calling to (0,1) range Scalling\n",
    "max_val = train_df.max(axis= 0)\n",
    "min_val = train_df.min(axis= 0) \n",
    "range = max_val - min_val\n",
    "train_df = (train_df - min_val)/(range)\n",
    "val_df =  (val_df - min_val)/range"
   ]
  },
  {
   "cell_type": "markdown",
   "metadata": {},
   "source": []
  },
  {
   "cell_type": "code",
   "execution_count": 6,
   "metadata": {},
   "outputs": [
    {
     "data": {
      "text/plain": [
       "[11]"
      ]
     },
     "execution_count": 6,
     "metadata": {},
     "output_type": "execute_result"
    }
   ],
   "source": [
    "# now let's separate the targets and labels\n",
    "\n",
    "X_train = train_df.drop('quality',axis=1)\n",
    "X_val = val_df.drop('quality',axis=1)\n",
    "y_train = train_df['quality']\n",
    "y_val = val_df['quality']\n",
    " \n",
    "# We'll need to pass the shape\n",
    "# of features/inputs as an argument\n",
    "# in our model, so let's define a variable\n",
    "# to save it.\n",
    "input_shape = [X_train.shape[1]]\n",
    "input_shape"
   ]
  },
  {
   "cell_type": "code",
   "execution_count": 7,
   "metadata": {},
   "outputs": [],
   "source": [
    "import tensorflow as tf\n",
    "import keras\n",
    "from keras.models import Sequential\n",
    "from keras.layers import Dense# Neural network"
   ]
  },
  {
   "cell_type": "code",
   "execution_count": 10,
   "metadata": {},
   "outputs": [
    {
     "name": "stdout",
     "output_type": "stream",
     "text": [
      "Model: \"sequential\"\n",
      "_________________________________________________________________\n",
      " Layer (type)                Output Shape              Param #   \n",
      "=================================================================\n",
      " dense (Dense)               (None, 64)                768       \n",
      "                                                                 \n",
      " dense_1 (Dense)             (None, 32)                2080      \n",
      "                                                                 \n",
      " dense_2 (Dense)             (None, 1)                 33        \n",
      "                                                                 \n",
      "=================================================================\n",
      "Total params: 2,881\n",
      "Trainable params: 2,881\n",
      "Non-trainable params: 0\n",
      "_________________________________________________________________\n"
     ]
    }
   ],
   "source": [
    "model = tf.keras.Sequential([\n",
    " \n",
    "    tf.keras.layers.Dense(units=64, activation='sigmoid',\n",
    "                          input_shape=input_shape),\n",
    "    tf.keras.layers.Dense(units=32, activation='sigmoid'),\n",
    "   tf.keras.layers.Dense(units=1)\n",
    "])\n",
    "model.summary()"
   ]
  },
  {
   "cell_type": "code",
   "execution_count": 11,
   "metadata": {},
   "outputs": [],
   "source": [
    "# adam optimizer works pretty well for\n",
    "# all kinds of problems and is a good starting point\n",
    "model.compile(optimizer='adam', \n",
    "              # MAE error is good for\n",
    "              # numerical predictions\n",
    "              loss='mae') "
   ]
  },
  {
   "cell_type": "code",
   "execution_count": 12,
   "metadata": {},
   "outputs": [
    {
     "name": "stdout",
     "output_type": "stream",
     "text": [
      "Epoch 1/15\n",
      "12/12 [==============================] - 3s 63ms/step - loss: 0.2203 - val_loss: 0.1896\n",
      "Epoch 2/15\n",
      "12/12 [==============================] - 0s 14ms/step - loss: 0.1479 - val_loss: 0.1417\n",
      "Epoch 3/15\n",
      "12/12 [==============================] - 0s 14ms/step - loss: 0.1328 - val_loss: 0.1337\n",
      "Epoch 4/15\n",
      "12/12 [==============================] - 0s 12ms/step - loss: 0.1335 - val_loss: 0.1317\n",
      "Epoch 5/15\n",
      "12/12 [==============================] - 0s 14ms/step - loss: 0.1293 - val_loss: 0.1305\n",
      "Epoch 6/15\n",
      "12/12 [==============================] - 0s 14ms/step - loss: 0.1285 - val_loss: 0.1313\n",
      "Epoch 7/15\n",
      "12/12 [==============================] - 0s 14ms/step - loss: 0.1285 - val_loss: 0.1297\n",
      "Epoch 8/15\n",
      "12/12 [==============================] - 0s 13ms/step - loss: 0.1279 - val_loss: 0.1298\n",
      "Epoch 9/15\n",
      "12/12 [==============================] - 0s 13ms/step - loss: 0.1282 - val_loss: 0.1289\n",
      "Epoch 10/15\n",
      "12/12 [==============================] - 0s 17ms/step - loss: 0.1273 - val_loss: 0.1299\n",
      "Epoch 11/15\n",
      "12/12 [==============================] - 0s 16ms/step - loss: 0.1280 - val_loss: 0.1280\n",
      "Epoch 12/15\n",
      "12/12 [==============================] - 0s 17ms/step - loss: 0.1264 - val_loss: 0.1284\n",
      "Epoch 13/15\n",
      "12/12 [==============================] - 0s 15ms/step - loss: 0.1265 - val_loss: 0.1281\n",
      "Epoch 14/15\n",
      "12/12 [==============================] - 0s 14ms/step - loss: 0.1251 - val_loss: 0.1266\n",
      "Epoch 15/15\n",
      "12/12 [==============================] - 0s 13ms/step - loss: 0.1251 - val_loss: 0.1258\n"
     ]
    }
   ],
   "source": [
    "losses = model.fit(X_train, y_train,validation_data=(X_val, y_val),\n",
    "                   # it will use 'batch_size' number\n",
    "                   # of examples per example\n",
    "                   batch_size=100,\n",
    "                   epochs=15,  # total epoch\n",
    "                  )"
   ]
  },
  {
   "cell_type": "code",
   "execution_count": 13,
   "metadata": {},
   "outputs": [
    {
     "data": {
      "text/html": [
       "<div>\n",
       "<style scoped>\n",
       "    .dataframe tbody tr th:only-of-type {\n",
       "        vertical-align: middle;\n",
       "    }\n",
       "\n",
       "    .dataframe tbody tr th {\n",
       "        vertical-align: top;\n",
       "    }\n",
       "\n",
       "    .dataframe thead th {\n",
       "        text-align: right;\n",
       "    }\n",
       "</style>\n",
       "<table border=\"1\" class=\"dataframe\">\n",
       "  <thead>\n",
       "    <tr style=\"text-align: right;\">\n",
       "      <th></th>\n",
       "      <th>fixed acidity</th>\n",
       "      <th>volatile acidity</th>\n",
       "      <th>citric acid</th>\n",
       "      <th>residual sugar</th>\n",
       "      <th>chlorides</th>\n",
       "      <th>free sulfur dioxide</th>\n",
       "      <th>total sulfur dioxide</th>\n",
       "      <th>density</th>\n",
       "      <th>pH</th>\n",
       "      <th>sulphates</th>\n",
       "      <th>alcohol</th>\n",
       "    </tr>\n",
       "  </thead>\n",
       "  <tbody>\n",
       "    <tr>\n",
       "      <th>540</th>\n",
       "      <td>0.407080</td>\n",
       "      <td>0.321918</td>\n",
       "      <td>0.303797</td>\n",
       "      <td>0.165517</td>\n",
       "      <td>0.148581</td>\n",
       "      <td>0.267606</td>\n",
       "      <td>0.144876</td>\n",
       "      <td>0.640969</td>\n",
       "      <td>0.347826</td>\n",
       "      <td>0.206061</td>\n",
       "      <td>0.184615</td>\n",
       "    </tr>\n",
       "    <tr>\n",
       "      <th>543</th>\n",
       "      <td>0.584071</td>\n",
       "      <td>0.369863</td>\n",
       "      <td>0.303797</td>\n",
       "      <td>0.110345</td>\n",
       "      <td>0.121870</td>\n",
       "      <td>0.211268</td>\n",
       "      <td>0.166078</td>\n",
       "      <td>0.677680</td>\n",
       "      <td>0.173913</td>\n",
       "      <td>0.236364</td>\n",
       "      <td>0.400000</td>\n",
       "    </tr>\n",
       "    <tr>\n",
       "      <th>548</th>\n",
       "      <td>0.690265</td>\n",
       "      <td>0.157534</td>\n",
       "      <td>0.620253</td>\n",
       "      <td>0.117241</td>\n",
       "      <td>0.111853</td>\n",
       "      <td>0.366197</td>\n",
       "      <td>0.222615</td>\n",
       "      <td>0.685022</td>\n",
       "      <td>0.226087</td>\n",
       "      <td>0.254545</td>\n",
       "      <td>0.307692</td>\n",
       "    </tr>\n",
       "  </tbody>\n",
       "</table>\n",
       "</div>"
      ],
      "text/plain": [
       "     fixed acidity  volatile acidity  citric acid  residual sugar  chlorides  \\\n",
       "540       0.407080          0.321918     0.303797        0.165517   0.148581   \n",
       "543       0.584071          0.369863     0.303797        0.110345   0.121870   \n",
       "548       0.690265          0.157534     0.620253        0.117241   0.111853   \n",
       "\n",
       "     free sulfur dioxide  total sulfur dioxide   density        pH  sulphates  \\\n",
       "540             0.267606              0.144876  0.640969  0.347826   0.206061   \n",
       "543             0.211268              0.166078  0.677680  0.173913   0.236364   \n",
       "548             0.366197              0.222615  0.685022  0.226087   0.254545   \n",
       "\n",
       "      alcohol  \n",
       "540  0.184615  \n",
       "543  0.400000  \n",
       "548  0.307692  "
      ]
     },
     "execution_count": 13,
     "metadata": {},
     "output_type": "execute_result"
    }
   ],
   "source": [
    "X_val.iloc[121:124, :]"
   ]
  },
  {
   "cell_type": "code",
   "execution_count": 14,
   "metadata": {},
   "outputs": [
    {
     "data": {
      "text/plain": [
       "540    0.4\n",
       "543    0.6\n",
       "548    0.6\n",
       "Name: quality, dtype: float64"
      ]
     },
     "execution_count": 14,
     "metadata": {},
     "output_type": "execute_result"
    }
   ],
   "source": [
    "y_val.iloc[121:124]"
   ]
  },
  {
   "cell_type": "code",
   "execution_count": 15,
   "metadata": {},
   "outputs": [
    {
     "name": "stdout",
     "output_type": "stream",
     "text": [
      "1/1 [==============================] - 0s 272ms/step\n"
     ]
    },
    {
     "data": {
      "text/plain": [
       "array([[0.5565451 ],\n",
       "       [0.57602984],\n",
       "       [0.58285946]], dtype=float32)"
      ]
     },
     "execution_count": 15,
     "metadata": {},
     "output_type": "execute_result"
    }
   ],
   "source": [
    "# this will pass the first 3 rows of features\n",
    "# of our data as input to make predictions\n",
    "model.predict(X_val.iloc[121:124, :])"
   ]
  },
  {
   "cell_type": "code",
   "execution_count": 16,
   "metadata": {},
   "outputs": [
    {
     "data": {
      "text/plain": [
       "<Axes: >"
      ]
     },
     "execution_count": 16,
     "metadata": {},
     "output_type": "execute_result"
    },
    {
     "data": {
      "image/png": "[encoded data removed]",
      "text/plain": [
       "<Figure size 640x480 with 1 Axes>"
      ]
     },
     "metadata": {},
     "output_type": "display_data"
    }
   ],
   "source": [
    "loss_df = pd.DataFrame(losses.history)\n",
    "# history stores the loss/val\n",
    "# loss in each epoch\n",
    "# loss_df is a dataframe which\n",
    "# contains the losses so we can\n",
    "# plot it to visualize our model training\n",
    "loss_df.loc[:,['loss','val_loss']].plot()"
   ]
  },
  {
   "cell_type": "code",
   "execution_count": null,
   "metadata": {},
   "outputs": [],
   "source": []
  }
 ],
 "metadata": {
  "kernelspec": {
   "display_name": "Python 3 (ipykernel)",
   "language": "python",
   "name": "python3"
  },
  "language_info": {
   "codemirror_mode": {
    "name": "ipython",
    "version": 3
   },
   "file_extension": ".py",
   "mimetype": "text/x-python",
   "name": "python",
   "nbconvert_exporter": "python",
   "pygments_lexer": "ipython3",
   "version": "3.11.1"
  }
 },
 "nbformat": 4,
 "nbformat_minor": 2
}
