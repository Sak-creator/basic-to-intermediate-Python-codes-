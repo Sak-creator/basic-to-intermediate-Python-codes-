{
 "cells": [
  {
   "cell_type": "code",
   "execution_count": null,
   "id": "47620b6c",
   "metadata": {},
   "outputs": [
    {
     "name": "stdout",
     "output_type": "stream",
     "text": [
      "<class 'numpy.ndarray'>\n",
      "[[[  7  48  33]\n",
      "  [  5  46  31]\n",
      "  [  2  45  30]\n",
      "  ...\n",
      "  [ 92 129 133]\n",
      "  [ 85 131 138]\n",
      "  [ 86 138 144]]\n",
      "\n",
      " [[  8  49  34]\n",
      "  [  5  48  33]\n",
      "  [  3  46  31]\n",
      "  ...\n",
      "  [ 88 125 129]\n",
      "  [ 80 126 133]\n",
      "  [ 79 131 137]]\n",
      "\n",
      " [[  6  49  34]\n",
      "  [  5  48  33]\n",
      "  [  5  48  35]\n",
      "  ...\n",
      "  [ 88 125 129]\n",
      "  [ 78 124 131]\n",
      "  [ 76 128 134]]\n",
      "\n",
      " ...\n",
      "\n",
      " [[ 52  39  41]\n",
      "  [ 57  44  46]\n",
      "  [ 56  43  45]\n",
      "  ...\n",
      "  [  4   6   6]\n",
      "  [  3   5   5]\n",
      "  [  2   4   4]]\n",
      "\n",
      " [[ 53  40  42]\n",
      "  [ 57  44  46]\n",
      "  [ 56  43  45]\n",
      "  ...\n",
      "  [  2   4   4]\n",
      "  [  1   3   3]\n",
      "  [  0   2   2]]\n",
      "\n",
      " [[ 56  43  45]\n",
      "  [ 58  45  47]\n",
      "  [ 55  42  44]\n",
      "  ...\n",
      "  [  1   3   3]\n",
      "  [  0   2   2]\n",
      "  [  0   1   1]]]\n",
      "(1343, 1000, 3)\n",
      "[21 67 74]\n"
     ]
    }
   ],
   "source": [
    "import cv2 as cv\n",
    "from matplotlib import pyplot as plt\n",
    "import numpy as np\n",
    "\n",
    "img = cv.imread('C:/Users/KIIT/Downloads/baboon.jpg', 1)\n",
    "print(type(img))\n",
    "print(img)\n",
    "print(img.shape)\n",
    "px = img[100, 100]\n",
    "print(px)\n",
    "\n",
    "cv.imshow('Image', img)\n",
    "cv.waitKey()\n",
    "cv.destroyAllWindows()"
   ]
  },
  {
   "cell_type": "code",
   "execution_count": null,
   "id": "2b5accaf",
   "metadata": {},
   "outputs": [],
   "source": [
    "image=img.imread('baboon.jpg')\n",
    "print(image.shape)"
   ]
  },
  {
   "cell_type": "code",
   "execution_count": null,
   "id": "6dde7e6e",
   "metadata": {},
   "outputs": [],
   "source": [
    "cv.imshow('a',image)\n",
    "cv.waitKey(0)\n",
    "cv.destroyAllWindows()"
   ]
  },
  {
   "cell_type": "code",
   "execution_count": null,
   "id": "4ccb02f8",
   "metadata": {},
   "outputs": [],
   "source": [
    "b,g,r=cv.split(img)\n",
    "b=img[;,;,0]\n",
    "g=img[;,;,1]\n",
    "r=img[;,;,2]\n",
    "print(r)\n",
    "cv.imshow('Image',r)\n",
    "cv.waitkey()\n",
    "cv.destroyAllWindows()\n"
   ]
  },
  {
   "cell_type": "code",
   "execution_count": null,
   "id": "a95c3a92",
   "metadata": {},
   "outputs": [],
   "source": [
    "import cv2 as cv\n",
    "import numpy as np\n",
    "\n",
    "img = cv.imread('C:/Users/KIIT/Downloads/baboon.jpg')\n",
    "\n",
    "height, width, channels = img.shape\n",
    "\n",
    "\n",
    "inverted = np.zeros((height, width, channels), dtype=np.uint8)\n",
    "\n",
    "\n",
    "for y in range(height):\n",
    "    for x in range(width):\n",
    "        for c in range(channels):\n",
    "            inverted[y,x,c] = 255 - img[y,x,c]\n",
    "\n",
    "cv.imshow('Inverted', inverted)\n",
    "cv.waitKey(0)\n",
    "cv.destroyAllWindows()"
   ]
  },
  {
   "cell_type": "code",
   "execution_count": null,
   "id": "db94bf26",
   "metadata": {},
   "outputs": [],
   "source": [
    "b, g, r = cv.split(img)\n",
    "g[:] = 0\n",
    "result = cv.merge((b, g, r))\n",
    "cv.imshow('Result', result)\n",
    "cv.waitKey(0)\n",
    "cv.destroyAllWindows()"
   ]
  },
  {
   "cell_type": "code",
   "execution_count": null,
   "id": "36fcd030",
   "metadata": {},
   "outputs": [],
   "source": []
  },
  {
   "cell_type": "code",
   "execution_count": null,
   "id": "5cb499ec",
   "metadata": {},
   "outputs": [],
   "source": []
  },
  {
   "cell_type": "code",
   "execution_count": null,
   "id": "0737944b",
   "metadata": {},
   "outputs": [],
   "source": []
  }
 ],
 "metadata": {
  "kernelspec": {
   "display_name": "Python 3 (ipykernel)",
   "language": "python",
   "name": "python3"
  },
  "language_info": {
   "codemirror_mode": {
    "name": "ipython",
    "version": 3
   },
   "file_extension": ".py",
   "mimetype": "text/x-python",
   "name": "python",
   "nbconvert_exporter": "python",
   "pygments_lexer": "ipython3",
   "version": "3.11.1"
  }
 },
 "nbformat": 4,
 "nbformat_minor": 5
}
